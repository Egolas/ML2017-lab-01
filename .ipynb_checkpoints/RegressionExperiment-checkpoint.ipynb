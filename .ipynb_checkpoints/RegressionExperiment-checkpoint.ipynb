{
 "cells": [
  {
   "cell_type": "markdown",
   "metadata": {
    "collapsed": true
   },
   "source": [
    "# First Model"
   ]
  },
  {
   "cell_type": "markdown",
   "metadata": {},
   "source": [
    "Liner regression with model"
   ]
  },
  {
   "cell_type": "markdown",
   "metadata": {},
   "source": [
    "$y = WX$"
   ]
  },
  {
   "cell_type": "code",
   "execution_count": 12,
   "metadata": {},
   "outputs": [
    {
     "name": "stdout",
     "output_type": "stream",
     "text": [
      "Producing (500/500)"
     ]
    },
    {
     "data": {
      "image/png": "[encoded data removed]",
      "text/plain": [
       "<matplotlib.figure.Figure at 0x26fbc458128>"
      ]
     },
     "metadata": {},
     "output_type": "display_data"
    }
   ],
   "source": [
    "import numpy as np\n",
    "from sklearn.datasets import load_svmlight_file\n",
    "from sklearn.model_selection import train_test_split\n",
    "import matplotlib.pyplot as plt\n",
    "\n",
    "\n",
    "# define objective function\n",
    "def model_function(x):\n",
    "    return np.dot(x, omega[:13])[0]\n",
    "\n",
    "\n",
    "# define loss function\n",
    "def loss_function(given_x, given_y):\n",
    "    loss = 0\n",
    "    for cur_x, cur_y in zip(given_x, given_y):\n",
    "        cur_x = cur_x.toarray()\n",
    "        loss = loss + (model_function(cur_x) - cur_y) ** 2\n",
    "\n",
    "    loss = loss / (2 * given_y.size)\n",
    "    return loss\n",
    "\n",
    "\n",
    "# load data set\n",
    "X, y = load_svmlight_file(\"housing_scale\")\n",
    "\n",
    "# split data set\n",
    "X_train, X_validation, y_train, y_validation = train_test_split(X, y, test_size=0.33, random_state=42)\n",
    "\n",
    "# parameters initialize - zeros\n",
    "omega = np.zeros(13)\n",
    "\n",
    "# define learning rate\n",
    "eta = 0.25\n",
    "\n",
    "# define iteration number\n",
    "iteration_num = 500\n",
    "\n",
    "# gradient decent\n",
    "train_loss = []\n",
    "validation_loss = []\n",
    "for i in range(iteration_num):\n",
    "    # print current iteration number\n",
    "    print(\"\\rProducing (\" + str(i + 1) + \"/\" + str(iteration_num) + \")\", end=\"\")\n",
    "\n",
    "    # gradient = -X^T * y + X^T * x * w\n",
    "    #          = - A * y + B * w\n",
    "    #          = - A * y + A * X * w\n",
    "\n",
    "    # calculate A\n",
    "    A = X_train.toarray().T\n",
    "\n",
    "    # calculate B\n",
    "    B = np.dot(A, X_train.toarray())\n",
    "\n",
    "    # calculate gradient\n",
    "    # gradient = np.dot(B, theta) - np.dot(A, y_train)\n",
    "    gradient = np.subtract(np.dot(B, omega), np.dot(A, y_train))\n",
    "\n",
    "    # gradient divided by number of samples\n",
    "    for j in range(len(gradient)):\n",
    "        gradient[j] = gradient[j] / y_train.size\n",
    "\n",
    "    # decent function, update parameters\n",
    "    omega = omega - eta * gradient\n",
    "\n",
    "    # calculate loss\n",
    "    train_loss.append(loss_function(X_train, y_train))\n",
    "    validation_loss.append(loss_function(X_validation, y_validation))\n",
    "\n",
    "# plot loss changes with iteration\n",
    "# yellow line for validation data loss\n",
    "plt.plot(range(iteration_num), train_loss, label=\"Train\")\n",
    "plt.plot(range(iteration_num), validation_loss, label=\"Validation\")\n",
    "plt.legend()\n",
    "\n",
    "plt.xlabel(\"Iteration number\")\n",
    "plt.ylabel(\"Loss\")\n",
    "plt.title(\"Linear Regression and gradient decent\")\n",
    "plt.show()\n"
   ]
  },
  {
   "cell_type": "markdown",
   "metadata": {},
   "source": [
    "# Second Model"
   ]
  },
  {
   "cell_type": "markdown",
   "metadata": {},
   "source": [
    "Liner regression with model"
   ]
  },
  {
   "cell_type": "markdown",
   "metadata": {},
   "source": [
    "$y = WX+b$"
   ]
  },
  {
   "cell_type": "code",
   "execution_count": 13,
   "metadata": {},
   "outputs": [
    {
     "name": "stdout",
     "output_type": "stream",
     "text": [
      "Producing (500/500)"
     ]
    },
    {
     "data": {
      "image/png": "[encoded data removed]",
      "text/plain": [
       "<matplotlib.figure.Figure at 0x26fbc458160>"
      ]
     },
     "metadata": {},
     "output_type": "display_data"
    }
   ],
   "source": [
    "import numpy as np\n",
    "from sklearn.datasets import load_svmlight_file\n",
    "from sklearn.model_selection import train_test_split\n",
    "import matplotlib.pyplot as plt\n",
    "\n",
    "\n",
    "# define objective function\n",
    "def model_function(x):\n",
    "    return np.dot(x, omega[:13])[0] + omega[13]\n",
    "\n",
    "\n",
    "# define loss function\n",
    "def loss_function(given_x, given_y):\n",
    "    loss = 0\n",
    "    for cur_x, cur_y in zip(given_x, given_y):\n",
    "        cur_x = cur_x.toarray()\n",
    "        loss = loss + (model_function(cur_x) - cur_y) ** 2\n",
    "\n",
    "    loss = loss / (2 * given_y.size)\n",
    "    return loss\n",
    "\n",
    "\n",
    "# load data set\n",
    "X, y = load_svmlight_file(\"housing_scale\")\n",
    "\n",
    "# split data set\n",
    "X_train, X_validation, y_train, y_validation = train_test_split(X, y, test_size=0.33, random_state=42)\n",
    "\n",
    "# parameters initialize - zeros\n",
    "omega = np.random.normal(3, 0.1, 14)\n",
    "\n",
    "# define learning rate\n",
    "eta = 0.25\n",
    "\n",
    "# define iteration number\n",
    "iteration_num = 500\n",
    "\n",
    "# gradient decent\n",
    "train_loss = []\n",
    "validation_loss = []\n",
    "for i in range(iteration_num):\n",
    "    # print current iteration number\n",
    "    print(\"\\rProducing (\" + str(i + 1) + \"/\" + str(iteration_num) + \")\", end=\"\")\n",
    "\n",
    "    # calculate gradient\n",
    "    gradient = np.zeros(14)\n",
    "    for curr_x, curr_y in zip(X_train, y_train):\n",
    "        curr_x = curr_x.toarray()\n",
    "        # calculate Partial derivatives\n",
    "        for j in range(13):\n",
    "            gradient[j] = gradient[j] + (model_function(curr_x) - curr_y) * curr_x[0][j]\n",
    "\n",
    "        gradient[13] = gradient[13] + (model_function(curr_x) - curr_y)\n",
    "\n",
    "    # average gradient of samples\n",
    "    for j in range(len(gradient)):\n",
    "        gradient[j] = gradient[j] / y_train.size\n",
    "\n",
    "    # update parameters\n",
    "    omega = omega - eta * gradient\n",
    "\n",
    "    # calculate loss\n",
    "    train_loss.append(loss_function(X_train, y_train))\n",
    "    validation_loss.append(loss_function(X_validation, y_validation))\n",
    "\n",
    "# plot loss changes with iteration\n",
    "# yellow line for validation data loss\n",
    "plt.plot(range(iteration_num), train_loss, label=\"Train\")\n",
    "plt.plot(range(iteration_num), validation_loss, label=\"Validation\")\n",
    "plt.legend()\n",
    "\n",
    "plt.xlabel(\"Iteration number\")\n",
    "plt.ylabel(\"Loss\")\n",
    "plt.title(\"Linear Regression and gradient decent\")\n",
    "plt.show()\n"
   ]
  },
  {
   "cell_type": "code",
   "execution_count": null,
   "metadata": {},
   "outputs": [],
   "source": []
  }
 ],
 "metadata": {
  "kernelspec": {
   "display_name": "Python 3",
   "language": "python",
   "name": "python3"
  },
  "language_info": {
   "codemirror_mode": {
    "name": "ipython",
    "version": 3
   },
   "file_extension": ".py",
   "mimetype": "text/x-python",
   "name": "python",
   "nbconvert_exporter": "python",
   "pygments_lexer": "ipython3",
   "version": "3.6.2"
  }
 },
 "nbformat": 4,
 "nbformat_minor": 2
}
